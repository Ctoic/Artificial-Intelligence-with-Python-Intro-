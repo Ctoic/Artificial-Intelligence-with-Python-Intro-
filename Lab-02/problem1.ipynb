{
 "cells": [
  {
   "cell_type": "code",
   "execution_count": 3,
   "metadata": {},
   "outputs": [
    {
     "name": "stdout",
     "output_type": "stream",
     "text": [
      "*\n",
      "*\n",
      "*\n",
      "*\n",
      "*\n"
     ]
    }
   ],
   "source": [
    "for i in range(5):\n",
    "        print(\"*\")"
   ]
  },
  {
   "cell_type": "code",
   "execution_count": 6,
   "metadata": {},
   "outputs": [
    {
     "name": "stdout",
     "output_type": "stream",
     "text": [
      "0\n",
      "1\n",
      "2\n"
     ]
    }
   ],
   "source": [
    "# Lists \n",
    "lista = [1, 'a',(1,2,3)]\n",
    "for i in range(len(lista)):\n",
    "    print(i)"
   ]
  },
  {
   "cell_type": "code",
   "execution_count": 15,
   "metadata": {},
   "outputs": [
    {
     "name": "stdout",
     "output_type": "stream",
     "text": [
      "[1, 2, [1, 2, 3, [1, 2, 3, 4]]]\n"
     ]
    },
    {
     "data": {
      "text/plain": [
       "[1, 2, [1, 2, 3, [1, 2, 3, 4]], 1, 2, [1, 2, 3, [1, 2, 3, 4]]]"
      ]
     },
     "execution_count": 15,
     "metadata": {},
     "output_type": "execute_result"
    }
   ],
   "source": [
    "# Two dimensional List \n",
    "listb = [[1,2,3],[2,4,6]]\n",
    "\n",
    "K = [1,2,[1,2,3,[1,2,3,4]]]\n",
    "print(K)\n",
    "K+K"
   ]
  },
  {
   "cell_type": "code",
   "execution_count": 17,
   "metadata": {},
   "outputs": [
    {
     "name": "stdout",
     "output_type": "stream",
     "text": [
      "['H', 'e', 'l', 'l', 'o', ' ', 'W', 'o', 'r', 'l', 'd', ' ', '!']\n"
     ]
    }
   ],
   "source": [
    "# Print in python \n",
    "s = \"Hello World !\"\n",
    "# Print l[1:3]\n",
    "s = list(s)\n",
    "\n",
    "for i in +\n",
    "print(s)"
   ]
  },
  {
   "cell_type": "code",
   "execution_count": 20,
   "metadata": {},
   "outputs": [
    {
     "name": "stdout",
     "output_type": "stream",
     "text": [
      "[1, 3, 5, 7, 9]\n",
      "3\n"
     ]
    }
   ],
   "source": [
    "# aDVANTAGES OF LIST \n",
    "p = list(range(1,10,2))\n",
    "print(p)\n",
    "print(p[1])"
   ]
  },
  {
   "cell_type": "code",
   "execution_count": 24,
   "metadata": {},
   "outputs": [
    {
     "ename": "SyntaxError",
     "evalue": "invalid syntax (473563926.py, line 4)",
     "output_type": "error",
     "traceback": [
      "\u001b[0;36m  Cell \u001b[0;32mIn[24], line 4\u001b[0;36m\u001b[0m\n\u001b[0;31m    r2 = list(range(::-100, 2))\u001b[0m\n\u001b[0m                    ^\u001b[0m\n\u001b[0;31mSyntaxError\u001b[0m\u001b[0;31m:\u001b[0m invalid syntax\n"
     ]
    }
   ],
   "source": [
    "Reverse = list(range(-100,100, 2))\n",
    "print(Reverse)\n",
    "\n"
   ]
  },
  {
   "cell_type": "code",
   "execution_count": 34,
   "metadata": {},
   "outputs": [
    {
     "name": "stdout",
     "output_type": "stream",
     "text": [
      "KSaabhinor\n"
     ]
    }
   ],
   "source": [
    "st = \"ShaboKiran\"\n",
    "con_li = list(st)\n",
    "\n",
    "con_li.sort()  # This sorts the list in-place\n",
    "str2 = ''.join(con_li)  # Convert the list back to a string\n",
    "\n",
    "print(str2)\n"
   ]
  },
  {
   "cell_type": "code",
   "execution_count": 36,
   "metadata": {},
   "outputs": [
    {
     "name": "stdout",
     "output_type": "stream",
     "text": [
      "['n', 'a', 'j', 'a', 'M']\n"
     ]
    }
   ],
   "source": [
    "# Empty list \n",
    "Lis = []\n",
    "Lis.append(\"n\")\n",
    "Lis.append(\"a\")\n",
    "Lis.append(\"j\")\n",
    "Lis.append(\"a\")\n",
    "Lis.append(\"M\")\n",
    "\n",
    "print(Lis)"
   ]
  },
  {
   "cell_type": "code",
   "execution_count": 38,
   "metadata": {},
   "outputs": [
    {
     "name": "stdout",
     "output_type": "stream",
     "text": [
      "['M', 'a', 'j', 'a', 'N']\n"
     ]
    }
   ],
   "source": [
    "# Modification of List\n",
    "Lis[0] = 'M'\n",
    "Lis[-1] = \"N\"\n",
    "\n",
    "print(Lis)"
   ]
  },
  {
   "cell_type": "code",
   "execution_count": 40,
   "metadata": {},
   "outputs": [
    {
     "name": "stdout",
     "output_type": "stream",
     "text": [
      "['M', 'a', 'j', 'a', 'A', 'N']\n"
     ]
    }
   ],
   "source": [
    "# Insert Method \n",
    "Lis.insert(-1,'A')\n",
    "print(Lis)"
   ]
  },
  {
   "cell_type": "code",
   "execution_count": 42,
   "metadata": {},
   "outputs": [
    {
     "name": "stdout",
     "output_type": "stream",
     "text": [
      "['M', 'T', 'T', 'a', 'A', 'N']\n"
     ]
    }
   ],
   "source": [
    "# Slicing index for modification \n",
    "Lis[1:3]  = ['T', 'T']\n",
    "print(Lis)"
   ]
  },
  {
   "cell_type": "code",
   "execution_count": 45,
   "metadata": {},
   "outputs": [
    {
     "name": "stdout",
     "output_type": "stream",
     "text": [
      "[1, 1, 1, 1, 4, 2, 1]\n"
     ]
    }
   ],
   "source": [
    "# Insertion in a List \n",
    "l = []\n",
    "l.insert(0,1)\n",
    "l.insert(0,2)\n",
    "l.insert(0,4)\n",
    "l.insert(0,1)\n",
    "\n",
    "l.insert(0,1)\n",
    "l.insert(0,1)\n",
    "l.insert(0,1)\n",
    "\n",
    "print(l)"
   ]
  },
  {
   "cell_type": "code",
   "execution_count": 46,
   "metadata": {},
   "outputs": [
    {
     "name": "stdout",
     "output_type": "stream",
     "text": [
      "[1, 1, 1, 4, 2, 1]\n"
     ]
    }
   ],
   "source": [
    "# Removing Element From List \n",
    "l.remove(1)\n",
    "print(l)"
   ]
  },
  {
   "cell_type": "code",
   "execution_count": 47,
   "metadata": {},
   "outputs": [],
   "source": [
    "# Remove An element at specific Location\n"
   ]
  },
  {
   "cell_type": "code",
   "execution_count": 51,
   "metadata": {},
   "outputs": [
    {
     "name": "stdout",
     "output_type": "stream",
     "text": [
      "(1, 2, 3, 4)\n",
      "(1, 2, 3)\n",
      "x= 1\n",
      "x= 2\n",
      "x= 3\n"
     ]
    }
   ],
   "source": [
    "# Tuples Immutable \n",
    "\n",
    "m = (1,2,3,4)\n",
    "print(m)\n",
    "n= 1,2,3\n",
    "print(n)\n",
    "\n",
    "# X, Y\n",
    "x,y,z = n \n",
    "print(\"x=\",x)\n",
    "print(\"x=\",y)\n",
    "print(\"x=\",z)"
   ]
  },
  {
   "cell_type": "code",
   "execution_count": 58,
   "metadata": {},
   "outputs": [
    {
     "name": "stdout",
     "output_type": "stream",
     "text": [
      "{'Ali': [2.7, 3.333, 'Hakis'], 'Abass': [3.33, 4.0, 'Raushan'], 'Najam': [1.0, 4.0, 'Sumal']}\n",
      "Dictionary After Addition {'Ali': [2.7, 3.333, 'Hakis'], 'Abass': [3.33, 4.0, 'Raushan'], 'Najam': [1.0, 4.0, 'Sumal'], 'shabo': [3.9, 434242, 'Gupis']}\n"
     ]
    }
   ],
   "source": [
    "# Dictionary Key value pair\n",
    "d = {\n",
    "    'Ali' : [2.7,3.333,\"Hakis\"],\n",
    "    'Abass':[3.33,4.0,\"Raushan\"],\n",
    "    'Najam':[1.00,4.0,\"Sumal\"]\n",
    "}\n",
    "\n",
    "# Printing The key and value \n",
    "\n",
    "print(d)\n",
    "\n",
    "# Inserting more names \n",
    "d[\"shabo\"]=[3.9, 434242, \"Gupis\"]\n",
    "\n",
    "print(\"Dictionary After Addition\",d)\n",
    "\n"
   ]
  },
  {
   "cell_type": "code",
   "execution_count": null,
   "metadata": {},
   "outputs": [],
   "source": []
  }
 ],
 "metadata": {
  "kernelspec": {
   "display_name": "Python 3",
   "language": "python",
   "name": "python3"
  },
  "language_info": {
   "codemirror_mode": {
    "name": "ipython",
    "version": 3
   },
   "file_extension": ".py",
   "mimetype": "text/x-python",
   "name": "python",
   "nbconvert_exporter": "python",
   "pygments_lexer": "ipython3",
   "version": "3.10.13"
  }
 },
 "nbformat": 4,
 "nbformat_minor": 2
}
