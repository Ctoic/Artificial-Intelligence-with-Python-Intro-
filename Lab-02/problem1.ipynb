{
 "cells": [
  {
   "cell_type": "code",
   "execution_count": 3,
   "metadata": {},
   "outputs": [
    {
     "name": "stdout",
     "output_type": "stream",
     "text": [
      "*\n",
      "*\n",
      "*\n",
      "*\n",
      "*\n"
     ]
    }
   ],
   "source": [
    "for i in range(5):\n",
    "        print(\"*\")"
   ]
  },
  {
   "cell_type": "code",
   "execution_count": 6,
   "metadata": {},
   "outputs": [
    {
     "name": "stdout",
     "output_type": "stream",
     "text": [
      "0\n",
      "1\n",
      "2\n"
     ]
    }
   ],
   "source": [
    "# Lists \n",
    "lista = [1, 'a',(1,2,3)]\n",
    "for i in range(len(lista)):\n",
    "    print(i)"
   ]
  },
  {
   "cell_type": "code",
   "execution_count": 15,
   "metadata": {},
   "outputs": [
    {
     "name": "stdout",
     "output_type": "stream",
     "text": [
      "[1, 2, [1, 2, 3, [1, 2, 3, 4]]]\n"
     ]
    },
    {
     "data": {
      "text/plain": [
       "[1, 2, [1, 2, 3, [1, 2, 3, 4]], 1, 2, [1, 2, 3, [1, 2, 3, 4]]]"
      ]
     },
     "execution_count": 15,
     "metadata": {},
     "output_type": "execute_result"
    }
   ],
   "source": [
    "# Two dimensional List \n",
    "listb = [[1,2,3],[2,4,6]]\n",
    "\n",
    "K = [1,2,[1,2,3,[1,2,3,4]]]\n",
    "print(K)\n",
    "K+K"
   ]
  },
  {
   "cell_type": "code",
   "execution_count": 17,
   "metadata": {},
   "outputs": [
    {
     "name": "stdout",
     "output_type": "stream",
     "text": [
      "['H', 'e', 'l', 'l', 'o', ' ', 'W', 'o', 'r', 'l', 'd', ' ', '!']\n"
     ]
    }
   ],
   "source": [
    "# Print in python \n",
    "s = \"Hello World !\"\n",
    "# Print l[1:3]\n",
    "s = list(s)\n",
    "\n",
    "for i in +\n",
    "print(s)"
   ]
  },
  {
   "cell_type": "code",
   "execution_count": 20,
   "metadata": {},
   "outputs": [
    {
     "name": "stdout",
     "output_type": "stream",
     "text": [
      "[1, 3, 5, 7, 9]\n",
      "3\n"
     ]
    }
   ],
   "source": [
    "# aDVANTAGES OF LIST \n",
    "p = list(range(1,10,2))\n",
    "print(p)\n",
    "print(p[1])"
   ]
  },
  {
   "cell_type": "code",
   "execution_count": 24,
   "metadata": {},
   "outputs": [
    {
     "ename": "SyntaxError",
     "evalue": "invalid syntax (473563926.py, line 4)",
     "output_type": "error",
     "traceback": [
      "\u001b[0;36m  Cell \u001b[0;32mIn[24], line 4\u001b[0;36m\u001b[0m\n\u001b[0;31m    r2 = list(range(::-100, 2))\u001b[0m\n\u001b[0m                    ^\u001b[0m\n\u001b[0;31mSyntaxError\u001b[0m\u001b[0;31m:\u001b[0m invalid syntax\n"
     ]
    }
   ],
   "source": [
    "Reverse = list(range(-100,100, 2))\n",
    "print(Reverse)\n",
    "\n"
   ]
  },
  {
   "cell_type": "code",
   "execution_count": 34,
   "metadata": {},
   "outputs": [
    {
     "name": "stdout",
     "output_type": "stream",
     "text": [
      "KSaabhinor\n"
     ]
    }
   ],
   "source": [
    "st = \"ShaboKiran\"\n",
    "con_li = list(st)\n",
    "\n",
    "con_li.sort()  # This sorts the list in-place\n",
    "str2 = ''.join(con_li)  # Convert the list back to a string\n",
    "\n",
    "print(str2)\n"
   ]
  },
  {
   "cell_type": "code",
   "execution_count": 36,
   "metadata": {},
   "outputs": [
    {
     "name": "stdout",
     "output_type": "stream",
     "text": [
      "['n', 'a', 'j', 'a', 'M']\n"
     ]
    }
   ],
   "source": [
    "# Empty list \n",
    "Lis = []\n",
    "Lis.append(\"n\")\n",
    "Lis.append(\"a\")\n",
    "Lis.append(\"j\")\n",
    "Lis.append(\"a\")\n",
    "Lis.append(\"M\")\n",
    "\n",
    "print(Lis)"
   ]
  },
  {
   "cell_type": "code",
   "execution_count": 38,
   "metadata": {},
   "outputs": [
    {
     "name": "stdout",
     "output_type": "stream",
     "text": [
      "['M', 'a', 'j', 'a', 'N']\n"
     ]
    }
   ],
   "source": [
    "# Modification of List\n",
    "Lis[0] = 'M'\n",
    "Lis[-1] = \"N\"\n",
    "\n",
    "print(Lis)"
   ]
  },
  {
   "cell_type": "code",
   "execution_count": 40,
   "metadata": {},
   "outputs": [
    {
     "name": "stdout",
     "output_type": "stream",
     "text": [
      "['M', 'a', 'j', 'a', 'A', 'N']\n"
     ]
    }
   ],
   "source": [
    "# Insert Method \n",
    "Lis.insert(-1,'A')\n",
    "print(Lis)"
   ]
  },
  {
   "cell_type": "code",
   "execution_count": 42,
   "metadata": {},
   "outputs": [
    {
     "name": "stdout",
     "output_type": "stream",
     "text": [
      "['M', 'T', 'T', 'a', 'A', 'N']\n"
     ]
    }
   ],
   "source": [
    "# Slicing index for modification \n",
    "Lis[1:3]  = ['T', 'T']\n",
    "print(Lis)"
   ]
  },
  {
   "cell_type": "code",
   "execution_count": 45,
   "metadata": {},
   "outputs": [
    {
     "name": "stdout",
     "output_type": "stream",
     "text": [
      "[1, 1, 1, 1, 4, 2, 1]\n"
     ]
    }
   ],
   "source": [
    "# Insertion in a List \n",
    "l = []\n",
    "l.insert(0,1)\n",
    "l.insert(0,2)\n",
    "l.insert(0,4)\n",
    "l.insert(0,1)\n",
    "\n",
    "l.insert(0,1)\n",
    "l.insert(0,1)\n",
    "l.insert(0,1)\n",
    "\n",
    "print(l)"
   ]
  },
  {
   "cell_type": "code",
   "execution_count": 46,
   "metadata": {},
   "outputs": [
    {
     "name": "stdout",
     "output_type": "stream",
     "text": [
      "[1, 1, 1, 4, 2, 1]\n"
     ]
    }
   ],
   "source": [
    "# Removing Element From List \n",
    "l.remove(1)\n",
    "print(l)"
   ]
  },
  {
   "cell_type": "code",
   "execution_count": 47,
   "metadata": {},
   "outputs": [],
   "source": [
    "# Remove An element at specific Location\n"
   ]
  },
  {
   "cell_type": "code",
   "execution_count": 51,
   "metadata": {},
   "outputs": [
    {
     "name": "stdout",
     "output_type": "stream",
     "text": [
      "(1, 2, 3, 4)\n",
      "(1, 2, 3)\n",
      "x= 1\n",
      "x= 2\n",
      "x= 3\n"
     ]
    }
   ],
   "source": [
    "# Tuples Immutable \n",
    "\n",
    "m = (1,2,3,4)\n",
    "print(m)\n",
    "n= 1,2,3\n",
    "print(n)\n",
    "\n",
    "# X, Y\n",
    "x,y,z = n \n",
    "print(\"x=\",x)\n",
    "print(\"x=\",y)\n",
    "print(\"x=\",z)"
   ]
  },
  {
   "cell_type": "code",
   "execution_count": 59,
   "metadata": {},
   "outputs": [
    {
     "name": "stdout",
     "output_type": "stream",
     "text": [
      "{'Ali': [2.7, 3.333, 'Hakis'], 'Abass': [3.33, 4.0, 'Raushan'], 'Najam': [1.0, 4.0, 'Sumal']}\n",
      "Dictionary After Addition {'Ali': [2.7, 3.333, 'Hakis'], 'Abass': [3.33, 4.0, 'Raushan'], 'Najam': [1.0, 4.0, 'Sumal'], 'shabo': [3.9, 434242, 'Gupis']}\n",
      "{'Ali': [2.7, 3.333, 'Hakis'], 'Abass': [3.33, 4.0, 'Raushan'], 'Najam': [1.0, 4.0, 'Sumal'], 'shabo': [3.9, 434242, 'Gupis'], 'h': 33.3}\n"
     ]
    }
   ],
   "source": [
    "# Dictionary Key value pair\n",
    "d = {\n",
    "    'Ali' : [2.7,3.333,\"Hakis\"],\n",
    "    'Abass':[3.33,4.0,\"Raushan\"],\n",
    "    'Najam':[1.00,4.0,\"Sumal\"]\n",
    "}\n",
    "\n",
    "# Printing The key and value \n",
    "\n",
    "print(d)\n",
    "\n",
    "# Inserting more names \n",
    "d[\"shabo\"]=[3.9, 434242, \"Gupis\"]\n",
    "\n",
    "print(\"Dictionary After Addition\",d)\n",
    "\n",
    "# Changing a specific value \n",
    "\n",
    "d[\"shabo\"[1]]=33.3\n",
    "\n",
    "# print\n",
    "\n",
    "print(d)\n",
    "\n"
   ]
  },
  {
   "cell_type": "code",
   "execution_count": 62,
   "metadata": {},
   "outputs": [
    {
     "name": "stdout",
     "output_type": "stream",
     "text": [
      "Negetive\n"
     ]
    }
   ],
   "source": [
    "# Conditional Statements in Python \n",
    "\n",
    "inputt = int(input(\"Enter Number\"))\n",
    "if inputt > 0:\n",
    "    print(\"Postive\")\n",
    "elif input == 0 :\n",
    "    print(\"Neutral\")\n",
    "else:\n",
    "    print(\"Negetive\")\n"
   ]
  },
  {
   "cell_type": "code",
   "execution_count": 66,
   "metadata": {},
   "outputs": [
    {
     "name": "stdout",
     "output_type": "stream",
     "text": [
      "1\n",
      "0\n",
      "1\n",
      "2\n",
      "3\n",
      "2\n",
      "0\n",
      "1\n",
      "2\n",
      "3\n",
      "3\n",
      "0\n",
      "1\n",
      "2\n",
      "3\n"
     ]
    }
   ],
   "source": [
    "# Loops In Python Iterator \n",
    "for x in [1,2,3]:\n",
    "    print(x)\n",
    "\n",
    "\n",
    "# Range Function with python\n",
    "    \n",
    "    for i in range(4):\n",
    "        print(i)\n",
    "\n",
    "\n",
    "   "
   ]
  },
  {
   "cell_type": "code",
   "execution_count": 67,
   "metadata": {},
   "outputs": [
    {
     "name": "stdout",
     "output_type": "stream",
     "text": [
      "-3\n",
      "-2\n",
      "-1\n",
      "0\n",
      "1\n",
      "2\n"
     ]
    }
   ],
   "source": [
    "for j in range(-3,3):\n",
    "        print(j)"
   ]
  },
  {
   "cell_type": "code",
   "execution_count": 71,
   "metadata": {},
   "outputs": [
    {
     "name": "stdout",
     "output_type": "stream",
     "text": [
      "Ali = [2.7, 3.333, 'Hakis']\n",
      "Abass = [3.33, 4.0, 'Raushan']\n",
      "Najam = [1.0, 4.0, 'Sumal']\n",
      "shabo = [3.9, 434242, 'Gupis']\n",
      "h = 33.3\n"
     ]
    }
   ],
   "source": [
    " # One By one it will take values and key pair from dictionary \n",
    "for key , value in d.items():\n",
    "    print(key + \" = \" + str(value))\n"
   ]
  },
  {
   "cell_type": "code",
   "execution_count": 72,
   "metadata": {},
   "outputs": [
    {
     "name": "stdout",
     "output_type": "stream",
     "text": [
      "0\n",
      "1\n",
      "2\n",
      "3\n",
      "4\n",
      "Done\n"
     ]
    }
   ],
   "source": [
    "# While Loop \n",
    "\n",
    "i =  0 \n",
    "while i < 5 :\n",
    "    print(i)\n",
    "\n",
    "\n",
    "    i  = i +1 \n",
    "\n",
    "\n",
    "print(\"Done\")"
   ]
  },
  {
   "cell_type": "code",
   "execution_count": 77,
   "metadata": {},
   "outputs": [
    {
     "name": "stdout",
     "output_type": "stream",
     "text": [
      "4\n",
      "<function sum at 0x7f91f8116b90>\n",
      "Help on function sum in module __main__:\n",
      "\n",
      "sum(a, b)\n",
      "    It will return sum just give 2 inputs\n",
      "\n"
     ]
    }
   ],
   "source": [
    "# Functions in Python \n",
    "\n",
    "def sum(a, b):\n",
    "    \"\"\" It will return sum just give 2 inputs \"\"\"\n",
    "    return a+b\n",
    "\n",
    "print(sum(1,3))\n",
    "print(sum)\n",
    "help(sum)\n",
    "def square(a):\n",
    "    return(a*a)\n"
   ]
  },
  {
   "cell_type": "code",
   "execution_count": 78,
   "metadata": {},
   "outputs": [],
   "source": [
    "# Object oriented in Python \n",
    "class Point:\n",
    "    \"\"\" Simple class\"\"\"\n",
    "\n",
    "    def __init__(self, x , y):\n",
    "        \"\"\" Create new points \"\"\"\n",
    "        self.x  = x \n",
    "        self.y = y\n",
    "\n",
    "\n",
    "\n",
    "def translate(self , dx , dy):\n",
    "    self.x += dx \n",
    "    self.y -= dy \n",
    "\n",
    "def __str__(self):\n",
    "    return(\"Point at [%]\")"
   ]
  },
  {
   "cell_type": "code",
   "execution_count": null,
   "metadata": {},
   "outputs": [],
   "source": []
  },
  {
   "cell_type": "markdown",
   "metadata": {},
   "source": [
    "# Question 1\n",
    "- Write a program to find circumference of a circle. The program should take radius input from\n",
    "user and display the circumference = 2πr (where PI is a constant value of 3.1415 and r is\n",
    "radius)"
   ]
  },
  {
   "cell_type": "code",
   "execution_count": 79,
   "metadata": {},
   "outputs": [
    {
     "name": "stdout",
     "output_type": "stream",
     "text": [
      "31.427\n"
     ]
    }
   ],
   "source": [
    "radius = int(input(\"Enter Radius \"))\n",
    "pi = 3.1427\n",
    "circumfrenc00e = 2*pi*radius\n",
    "print(circumfrenc00e)"
   ]
  },
  {
   "cell_type": "markdown",
   "metadata": {},
   "source": [
    "# Question 2 \n",
    "\n",
    "\n"
   ]
  },
  {
   "cell_type": "code",
   "execution_count": 85,
   "metadata": {},
   "outputs": [
    {
     "name": "stdout",
     "output_type": "stream",
     "text": [
      "Not allowed :()\n"
     ]
    }
   ],
   "source": [
    "total_classes = int(input(\"Enter total Number of classes\"))\n",
    "atten_classes = int(input(\"Enter number of classes you took \"))\n",
    "\n",
    "\n",
    "def att_percentage(total_classes, atten_classes):\n",
    "    percentage = (atten_classes / total_classes) * 100 \n",
    "    return percentage\n",
    "\n",
    "percentage = att_percentage(total_classes, atten_classes)\n",
    "if percentage > 85 :\n",
    "    print(\"Allowed to Sit :)\")\n",
    "else: \n",
    "    print(\"Not allowed :()\")"
   ]
  },
  {
   "cell_type": "markdown",
   "metadata": {},
   "source": [
    "# Question 3 "
   ]
  },
  {
   "cell_type": "code",
   "execution_count": 114,
   "metadata": {},
   "outputs": [
    {
     "name": "stdout",
     "output_type": "stream",
     "text": [
      "['bed', 112.0, 'hall', 113.5, 'bath', 189.5, 'kit', 789.0, 'liv', 230.0]\n",
      "[112.0, 113.5, 189.5, 789.0, 230.0]\n",
      "['bed', 'hall', 'bath', 'kit', 'liv']\n"
     ]
    }
   ],
   "source": [
    "lis = ['bed', 112.0, 'hall', 113.5, 'bath', 189.5, 'kit', 789.0, 'liv', 230.0]\n",
    "float_area = lis.copy()\n",
    "str_area = lis.copy()\n",
    "\n",
    "print(float_area)\n",
    "\n",
    "for item in float_area[:]:  # Iterate over a copy of the list to avoid modifying it while iterating\n",
    "    if not isinstance(item, float):\n",
    "        float_area.remove(item)\n",
    "\n",
    "for str_item in str_area[:]:\n",
    "    if not isinstance(str_item, str):\n",
    "        str_area.remove(str_item)\n",
    "\n",
    "print(float_area[:])\n",
    "print(str_area[:])\n",
    "\n",
    "\n"
   ]
  },
  {
   "cell_type": "code",
   "execution_count": null,
   "metadata": {},
   "outputs": [],
   "source": []
  },
  {
   "cell_type": "markdown",
   "metadata": {},
   "source": [
    "# Question 5 "
   ]
  },
  {
   "cell_type": "code",
   "execution_count": 116,
   "metadata": {},
   "outputs": [
    {
     "name": "stdout",
     "output_type": "stream",
     "text": [
      "3\n",
      "33\n",
      "2\n",
      "1\n",
      "5\n",
      "6\n",
      "7\n",
      "8\n",
      "9\n"
     ]
    }
   ],
   "source": [
    "tup = (3,33,2,1,5,6,7,8,9)\n",
    "for i in tup:\n",
    "    print(i)"
   ]
  },
  {
   "cell_type": "code",
   "execution_count": null,
   "metadata": {},
   "outputs": [],
   "source": []
  }
 ],
 "metadata": {
  "kernelspec": {
   "display_name": "Python 3",
   "language": "python",
   "name": "python3"
  },
  "language_info": {
   "codemirror_mode": {
    "name": "ipython",
    "version": 3
   },
   "file_extension": ".py",
   "mimetype": "text/x-python",
   "name": "python",
   "nbconvert_exporter": "python",
   "pygments_lexer": "ipython3",
   "version": "3.10.13"
  }
 },
 "nbformat": 4,
 "nbformat_minor": 2
}
