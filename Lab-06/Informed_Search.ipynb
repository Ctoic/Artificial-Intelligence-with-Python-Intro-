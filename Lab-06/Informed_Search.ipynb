{
  "cells": [
    {
      "cell_type": "markdown",
      "metadata": {
        "id": "XC4vJ4Cg7lyg"
      },
      "source": [
        "<h1 style=\"font-family:verdana;\"> <center> </center> </h1>\n",
        "<h1 style=\"font-family:verdana;\"> <center>Informed Searches</center> </h1>\n",
        "<h1 style=\"font-family:verdana;\"> <center>A* Search</center> </h1>\n",
        "<p><center style=\"color:#159364; font-family:cursive; font-size:20px;\">Instructor:Ms. Zill-E-Huma</center></p>\n",
        "\n",
        "***"
      ]
    },
    {
      "cell_type": "markdown",
      "metadata": {
        "id": "PnXjLdL572ob"
      },
      "source": [
        "# 👋Let's begin!\n",
        "<div class=\"alert alert-block alert-info\" style=\"font-size:20px; font-family:verdana;\">\n",
        "    \n",
        "</div>\n",
        "\n",
        "# 🔬Overview\n",
        "<div style=\"background-color:#fff1cc; padding: 20px;\">\n",
        "<p style=\"font-size:20px; font-family:verdana; line-height: 1.7em\">Informed search algorithms, also known as heuristic search algorithms, use problem- specific knowledgeto find solutions more efficiently than uninformed search algorithms. These algorithms make use of a heuristic function to estimate the cost of reaching the goal from a given state.</p>"
      ]
    },
    {
      "cell_type": "markdown",
      "metadata": {
        "id": "KwLXExBnDK0R"
      },
      "source": [
        "# 🧮 Algorithm\n",
        "\n",
        "<div style=\"background-color:#fff1cc; padding: 20px;\">\n",
        "<p style=\"font-size:30px; font-family:verdana; line-height: 1.7em\">\n",
        "\n",
        "1. Initialize the open list with the initial state and its f-score to be the heuristic estimate from the initial state to the goal.\n",
        "2. Initialize the closed list as empty.\n",
        "3. While the open list is not empty:\n",
        "\n",
        ">o Remove the state with the lowest f-score from the open list.\n",
        "\n",
        ">o If the state is the goal state, return the path to the goal.\n",
        "\n",
        ">o Otherwise, expand the state and add its neighbors to the open list with updated fscores.\n",
        "\n",
        ">o Add the current state to the closed list. If the open list is empty and the goal state has not been found, return failure.\n",
        "\n",
        "4. If the open set is empty and the goal has not been reached, return failure.</p>"
      ]
    },
    {
      "cell_type": "markdown",
      "metadata": {
        "id": "XYVrw8XMHJas"
      },
      "source": [
        "#Problem Statement\n",
        "Given an initial state of a 8-puzzle problem and final state to be reached-\n",
        "\n",
        "\n",
        "\n",
        "\n",
        "![image.png](data:image/png;base64,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)\n",
        "\n",
        "\n",
        "Find the most cost-effective path to reach the final state from initial state using A* Algorithm.\n",
        "\n",
        "Consider g(n) = Depth of node\n",
        "and h(n) = Number of misplaced tiles.\n",
        "\n"
      ]
    },
    {
      "cell_type": "markdown",
      "metadata": {
        "id": "GpVkfFYAHjJD"
      },
      "source": [
        "#Solution"
      ]
    },
    {
      "cell_type": "code",
      "execution_count": 1,
      "metadata": {
        "colab": {
          "base_uri": "https://localhost:8080/"
        },
        "id": "pRa5CWN4obO1",
        "outputId": "b9f145bb-cd82-45e3-9868-c726613ff914"
      },
      "outputs": [
        {
          "name": "stdout",
          "output_type": "stream",
          "text": [
            "Solved! Path to goal:\n",
            "[[2, 8, 3], [1, 6, 4], [7, 0, 5]]\n",
            "Up\n",
            "\n",
            "[[2, 8, 3], [1, 0, 4], [7, 6, 5]]\n",
            "Up\n",
            "\n",
            "[[2, 0, 3], [1, 8, 4], [7, 6, 5]]\n",
            "Left\n",
            "\n",
            "[[0, 2, 3], [1, 8, 4], [7, 6, 5]]\n",
            "Down\n",
            "\n",
            "[[1, 2, 3], [0, 8, 4], [7, 6, 5]]\n",
            "Right\n",
            "\n",
            "[1, 2, 3]\n",
            "[8, 0, 4]\n",
            "[7, 6, 5]\n",
            "\n"
          ]
        }
      ],
      "source": [
        "import heapq as hp\n",
        "\n",
        "def a_star_search(start, goal, heuristic):\n",
        "    open_list = [(0 + heuristic(start, goal), 0, start, [])]  # non-visited list\n",
        "    closed_list = set()  # visited list\n",
        "\n",
        "    while open_list:\n",
        "        _, cost_so_far, current_state, path = hp.heappop(open_list)\n",
        "\n",
        "        # Check if the current state is the goal state then return the path.\n",
        "        if current_state == goal:\n",
        "            return path + [current_state]\n",
        "\n",
        "        # Add the current state to the visited list\n",
        "        closed_list.add(tuple(map(tuple, current_state)))\n",
        "\n",
        "        # Explore the neighbors of the current state\n",
        "        for move, neighbor in next_possible_states(current_state):\n",
        "            new_cost = cost_so_far + 1  # each move has a cost of 1\n",
        "            f_score = new_cost + heuristic(neighbor, goal)    #sum of new_cost and the heuristic value of the neighbor.\n",
        "\n",
        "            if tuple(map(tuple, neighbor)) not in closed_list:    #Check if the neighbor is not visited then\n",
        "                hp.heappush(open_list, (f_score, new_cost, neighbor, path + [(current_state, move)]))  #add the values into the open_list\n",
        "\n",
        "    return \"No solution found\"\n",
        "\n",
        "#Counts the number of misplaced tiles in the current state compared to the goal state, ignoring the empty tile (0).\n",
        "def heuristic(curr_state, goal):\n",
        "    count = 0\n",
        "    for i in range(len(curr_state)):\n",
        "        for j in range(len(curr_state[i])):\n",
        "            if curr_state[i][j] != goal[i][j] and curr_state[i][j] != 0:  # Ignore empty tile in heuristic\n",
        "                count += 1\n",
        "    return count\n",
        "\n",
        "#Generate all possible states by moving the empty tile (0).\n",
        "def next_possible_states(curr_state):\n",
        "    next_states = []\n",
        "    i, j = None, None\n",
        "    for x in range(3):\n",
        "        for y in range(3):\n",
        "            if curr_state[x][y] == 0:  #find the position of the empty tile\n",
        "                i, j = x, y\n",
        "                break\n",
        "        if i is not None and j is not None:\n",
        "            break\n",
        "\n",
        "    # Moving Up\n",
        "    if i > 0:\n",
        "        curr_state[i][j], curr_state[i-1][j] = curr_state[i-1][j], curr_state[i][j]\n",
        "        next_states.append(('Up', [row[:] for row in curr_state]))\n",
        "        curr_state[i][j], curr_state[i-1][j] = curr_state[i-1][j], curr_state[i][j]\n",
        "    # Moving Down\n",
        "    if i < 2:\n",
        "        curr_state[i][j], curr_state[i+1][j] = curr_state[i+1][j], curr_state[i][j]\n",
        "        next_states.append(('Down', [row[:] for row in curr_state]))\n",
        "        curr_state[i][j], curr_state[i+1][j] = curr_state[i+1][j], curr_state[i][j]\n",
        "    # Moving Left\n",
        "    if j > 0:\n",
        "        curr_state[i][j], curr_state[i][j-1] = curr_state[i][j-1], curr_state[i][j]\n",
        "        next_states.append(('Left', [row[:] for row in curr_state]))\n",
        "        curr_state[i][j], curr_state[i][j-1] = curr_state[i][j-1], curr_state[i][j]\n",
        "    # Moving Right\n",
        "    if j < 2:\n",
        "        curr_state[i][j], curr_state[i][j+1] = curr_state[i][j+1], curr_state[i][j]\n",
        "        next_states.append(('Right', [row[:] for row in curr_state]))\n",
        "        curr_state[i][j], curr_state[i][j+1] = curr_state[i][j+1], curr_state[i][j]\n",
        "\n",
        "    return next_states\n",
        "\n",
        "# Initial and goal states from the provided image\n",
        "initial = [\n",
        "    [2, 8, 3],\n",
        "    [1, 6, 4],\n",
        "    [7, 0, 5]\n",
        "]\n",
        "\n",
        "goal = [\n",
        "    [1, 2, 3],\n",
        "    [8, 0, 4],\n",
        "    [7, 6, 5]\n",
        "]\n",
        "\n",
        "result = a_star_search(initial, goal, heuristic)\n",
        "if result != \"No solution found\":\n",
        "    path = result\n",
        "    print(f\"Solved! Path to goal:\")\n",
        "    for step in path:\n",
        "        for row in step:\n",
        "            print(row)\n",
        "        print()\n",
        "else:\n",
        "    print(result)\n"
      ]
    },
    {
      "cell_type": "markdown",
      "metadata": {
        "id": "LIyCiK8iB4X3"
      },
      "source": [
        "***\n",
        "\n",
        "<div style=\"color:white;\n",
        "           display:fill;\n",
        "           border-radius:5px;\n",
        "           background-color:#5642C5;\n",
        "           font-size:110%;\n",
        "           font-family:Verdana;\n",
        "           letter-spacing:0.5px\">\n",
        "        <p style=\"padding: 10px;\n",
        "              color:white;\">\n",
        "            Hope you liked today's class!\n",
        "        </p>\n",
        "    </div>\n",
        "\n",
        "<center><img src='https://media4.giphy.com/media/M9gbBd9nbDrOTu1Mqx/giphy.gif?cid=790b7611704aa2ca4e403287801480a6c753abf45f3e6242&rid=giphy.gif&ct=s'\n",
        "     height=120px width=160px /></center>"
      ]
    },
    {
      "cell_type": "markdown",
      "metadata": {},
      "source": []
    }
  ],
  "metadata": {
    "colab": {
      "provenance": []
    },
    "kernelspec": {
      "display_name": "Python 3",
      "name": "python3"
    },
    "language_info": {
      "codemirror_mode": {
        "name": "ipython",
        "version": 3
      },
      "file_extension": ".py",
      "mimetype": "text/x-python",
      "name": "python",
      "nbconvert_exporter": "python",
      "pygments_lexer": "ipython3",
      "version": "3.10.13"
    }
  },
  "nbformat": 4,
  "nbformat_minor": 0
}
