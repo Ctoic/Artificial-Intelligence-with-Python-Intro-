{
 "cells": [
  {
   "cell_type": "code",
   "execution_count": 8,
   "metadata": {},
   "outputs": [
    {
     "name": "stdout",
     "output_type": "stream",
     "text": [
      "The path with the lowest cost from G to F is: G -> E -> F with a cost of 14\n"
     ]
    }
   ],
   "source": [
    "import heapq\n",
    "\n",
    "def uniform_cost_search(graph, start, goal):\n",
    "    # Priority queue to store (cost, path)\n",
    "    priority_queue = [(0, start, [])]\n",
    "    visited = set()\n",
    "\n",
    "    while priority_queue:\n",
    "        # Get the current node with the lowest cost\n",
    "        cost, node, path = heapq.heappop(priority_queue)\n",
    "        \n",
    "        if node == goal:\n",
    "            return path + [node], cost\n",
    "        \n",
    "        if node not in visited:\n",
    "            visited.add(node)\n",
    "            path = path + [node]\n",
    "            \n",
    "            # Add neighbors to the priority queue\n",
    "            for neighbor, weight in graph[node]:\n",
    "                if neighbor not in visited:\n",
    "                    heapq.heappush(priority_queue, (cost + weight, neighbor, path))\n",
    "    \n",
    "    return None, float('inf') \n",
    "graph = {\n",
    "    'A': [('B', 5), ('D', 7)],\n",
    "    'B': [('C', 4), ('F', 10)],\n",
    "    'C': [('H', 6), ('E', 3), ('G', 6)],\n",
    "    'D': [('F', 4)],\n",
    "    'E': [('B', 2), ('F', 10)],\n",
    "    'F': [('A', 6)],\n",
    "    'G': [('E', 4), ('H', 4)],\n",
    "    'H': [('A', 3)]\n",
    "}\n",
    "\n",
    "# Define start and goal nodes\n",
    "start = 'G'\n",
    "goal = 'F'\n",
    "\n",
    "# Perform Uniform Cost Search\n",
    "path, cost = uniform_cost_search(graph, start, goal)\n",
    "\n",
    "# Print the result\n",
    "print(f\"The path with the lowest cost from {start} to {goal} is: {' -> '.join(path)} with a cost of {cost}\")\n"
   ]
  },
  {
   "cell_type": "code",
   "execution_count": null,
   "metadata": {},
   "outputs": [],
   "source": []
  },
  {
   "cell_type": "markdown",
   "metadata": {},
   "source": [
    "# Sudo Code \n",
    "\n",
    "function uniform_cost_search(graph, start, goal):\n",
    "    priority_queue = MinHeap()\n",
    "    priority_queue.push((0, start, []))  # (cost, current_node, path_so_far)\n",
    "    visited = set()\n",
    "\n",
    "    while not priority_queue.empty():\n",
    "        cost, node, path = priority_queue.pop()\n",
    "\n",
    "        if node == goal:\n",
    "            return path + [node], cost\n",
    "\n",
    "        if node not in visited:\n",
    "            visited.add(node)\n",
    "            path = path + [node]\n",
    "\n",
    "            for neighbor, weight in graph[node]:\n",
    "                if neighbor not in visited:\n",
    "                    priority_queue.push((cost + weight, neighbor, path))\n",
    "\n",
    "    return None, INFINITY\n",
    "\n"
   ]
  }
 ],
 "metadata": {
  "kernelspec": {
   "display_name": "Python 3",
   "language": "python",
   "name": "python3"
  },
  "language_info": {
   "codemirror_mode": {
    "name": "ipython",
    "version": 3
   },
   "file_extension": ".py",
   "mimetype": "text/x-python",
   "name": "python",
   "nbconvert_exporter": "python",
   "pygments_lexer": "ipython3",
   "version": "3.10.13"
  }
 },
 "nbformat": 4,
 "nbformat_minor": 2
}
