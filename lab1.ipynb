{
 "cells": [
  {
   "cell_type": "markdown",
   "metadata": {},
   "source": [
    "# Artificial Intelligence Lab 1\n",
    "## Introduction\n",
    "## Keywords in Python \n",
    "### Keywords are the reserved words in Python in list below. We cannot use a keyword as variable name, function name or any other identifier. They are used to define the syntax and structure of the Python language. In Python, keywords are case sensitive.\n",
    "### All the keywords except True, False and None are in lowercase and they must be written as they are. The list of all the keywords is given below.\n",
    "### Keywords in Python\n",
    "### False, await, else, import, pass, None, break, except, in, raise, True, class, finally, is, return, and, continue, for, lambda, try, as, def, from, nonlocal, while, assert, del, global, not, with, async, elif, if, or, yield\n",
    "### Complex Numbers in Python\n",
    "- Complex numbers are written in the form, x + yj, where x is the real part and y is the imaginary part.\n",
    "- Python has a built-in complex() function to convert real numbers to complex numbers.\n",
    "- Python has a built-in function called repr() for returning a string containing a printable representation of an object.\n",
    "- Python has a built-in function called str() for converting an object to a string.\n",
    "\n",
    "## Python Operators\n",
    "- Arithmetic operators (+, -, *, /, %, **, //)\n",
    "- Comparison operators (==, !=, >, <, >=, <=)\n",
    "- Logical operators (and, or, not)\n",
    "- Bitwise operations (|, &, ~, ^, >>, <<)\n",
    "- Assignment operators (=, +=, -=, *=, /=, %=, **=, //=, &=, |=, ^=, >>=, <<=)\n",
    "- Special operators (is, is not, in, not in)\n",
    "- Identity operators (is, is not)\n",
    "- Membership operators (in, not in)\n",
    "  \n",
    "## List In Pyhton \n",
    "- List is a collection which is ordered and changeable. Allows duplicate members.\n",
    "- In Python lists are written with square brackets.\n",
    "- List items are ordered, changeable, and allow duplicate values.\n",
    "- List items are indexed, the first item has index [0], the second item has index [1] etc.\n",
    "- When we say that lists are ordered, it means that the items have a defined order, and that order will not change.\n",
    "- Lists are changeable, meaning that we can change, add, and remove items in a list after it has been created.\n",
    "- Since lists are indexed, lists can have items with the same value.\n",
    "- List items can be of any data type.\n",
    "- The list() Constructor\n",
    "- It is also possible to use the list() constructor when creating a new list.\n",
    "- The list() constructor returns a list in Python.\n",
    "- Using the list() constructor to make a List.\n",
    "- It is also possible to use the list() constructor to make a new list.\n",
    "\n",
    "## Python Strings \n",
    "- Strings in Python are surrounded by either single quotation marks, or double quotation marks.\n",
    "- 'hello' is the same as \"hello\".\n",
    "- You can display a string literal with the print() function.\n",
    "- Strings in Python are arrays of bytes representing Unicode characters.\n",
    "- Square brackets can be used to access elements of the string.\n",
    "- Strings are arrays\n",
    "- Like many other popular programming languages, strings in Python are arrays of bytes representing unicode characters.\n",
    "\n",
    "### Slicing in Python\n",
    "- You can return a range of characters by using the slice syntax.\n",
    "- Specify the start index and the end index, separated by a colon, to return a part of the string.\n",
    "  - Get the characters from position 2 to position 5 (not included):\n",
    "  - Slice From the Start\n",
    "  - By leaving out the start index, the range will start at the first character:\n"
   ]
  },
  {
   "cell_type": "code",
   "execution_count": 30,
   "metadata": {},
   "outputs": [
    {
     "name": "stdout",
     "output_type": "stream",
     "text": [
      "value of x 2\n",
      "<class 'int'>\n",
      "value of y (2+3j)\n",
      "<class 'complex'>\n",
      "value of z (3+7j)\n",
      "(4+3j)\n",
      "-3j\n",
      "(4+6j)\n",
      "2.0 3.0\n"
     ]
    }
   ],
   "source": [
    "x=2\n",
    "print(\"value of x\",x)\n",
    "print(type(x))\n",
    "# Complex numbers in python\n",
    "y=2+3j\n",
    "z= 3+7j\n",
    "\n",
    "print(\"value of y\",y)\n",
    "print(type(y))\n",
    "print(\"value of z\",z)\n",
    "\n",
    "print(x+y)\n",
    "print(x-y)\n",
    "print(x*y)\n",
    "\n",
    "print(y.real, y.imag)\n",
    "\n",
    "\n",
    "\n"
   ]
  },
  {
   "cell_type": "code",
   "execution_count": 36,
   "metadata": {},
   "outputs": [
    {
     "name": "stdout",
     "output_type": "stream",
     "text": [
      "<class 'int'>\n",
      "<class 'complex'>\n",
      "True\n",
      "False\n",
      "False\n"
     ]
    }
   ],
   "source": [
    "## Checking type of variable\n",
    "print(type(x))\n",
    "print(type(y))\n",
    "## Checking type of variable using is \n",
    "print(type(x) is int)\n",
    "print(type(y) is int)\n",
    "print(type(y) is not complex)\n",
    "\n",
    "\n"
   ]
  },
  {
   "cell_type": "code",
   "execution_count": 46,
   "metadata": {},
   "outputs": [
    {
     "name": "stdout",
     "output_type": "stream",
     "text": [
      "True\n",
      "False\n",
      "True\n",
      "False\n"
     ]
    }
   ],
   "source": [
    "# checking with isinstance\n",
    "g = [1,2,3,4]\n",
    "print(isinstance(x,int))\n",
    "print(isinstance(y,int))\n",
    "print(isinstance(y,complex))\n",
    "print(isinstance(g, (int,float,complex)))\n"
   ]
  },
  {
   "cell_type": "code",
   "execution_count": 47,
   "metadata": {},
   "outputs": [
    {
     "name": "stdout",
     "output_type": "stream",
     "text": [
      "2\n",
      "2.0\n",
      "(2+0j)\n",
      "(2+3j)\n"
     ]
    }
   ],
   "source": [
    "# Type casting\n",
    "print(int(2.3))\n",
    "print(float(2))\n",
    "print(complex(2))\n",
    "print(complex(2,3)) \n"
   ]
  },
  {
   "cell_type": "code",
   "execution_count": 49,
   "metadata": {},
   "outputs": [
    {
     "name": "stdout",
     "output_type": "stream",
     "text": [
      "5\n",
      "-1\n",
      "6\n",
      "0.6666666666666666\n",
      "0\n",
      "8\n",
      "2\n",
      "False\n",
      "True\n",
      "False\n",
      "True\n",
      "False\n",
      "True\n",
      "False\n",
      "True\n",
      "False\n",
      "2\n",
      "3\n",
      "1\n",
      "-3\n",
      "16\n",
      "0\n"
     ]
    }
   ],
   "source": [
    "# Operators in Python \n",
    "# Arithmetic operators Examples\n",
    "print(2+3) # Addition\n",
    "print(2-3) # Subtraction\n",
    "print(2*3) # Multiplication\n",
    "print(2/3)  # Division  \n",
    "print(2//3) # Floor division\n",
    "print(2**3) # Exponentiation\n",
    "print(2%3) # Modulus\n",
    "\n",
    "# Comparison operators\n",
    "print(2>3) # Greater than\n",
    "print(2<3) # Less than\n",
    "print(2==3) # Equal to\n",
    "print(2!=3) # Not equal to\n",
    "print(2>=3) # Greater than or equal to\n",
    "print(2<=3) # Less than or equal to\n",
    "\n",
    "# Logical operators\n",
    "print(2>3 and 3>2) # and operator\n",
    "print(2>3 or 3>2) # or operator\n",
    "print(not(2>3 or 3>2)) # not operator\n",
    "\n",
    "# Bitwise operators\n",
    "print(2&3) # Bitwise and\n",
    "print(2|3) # Bitwise or\n",
    "print(2^3) # Bitwise xor\n",
    "print(~2) # Bitwise not\n",
    "print(2<<3) # Bitwise left shift\n",
    "print(2>>3) # Bitwise right shift\n",
    "\n",
    "# Assignment operators\n",
    "x=2 # Assigning value\n",
    "x+=2 # Adding and assigning value\n",
    "x-=2 # Subtracting and assigning value\n",
    "\n"
   ]
  },
  {
   "cell_type": "code",
   "execution_count": 52,
   "metadata": {},
   "outputs": [
    {
     "name": "stdout",
     "output_type": "stream",
     "text": [
      "[1, 2, 3, 4, 5]\n",
      "1\n",
      "2\n",
      "3\n",
      "4\n",
      "5\n",
      "False\n",
      "True\n"
     ]
    }
   ],
   "source": [
    "## List in python\n",
    "# Creating a list\n",
    "a = [1,2,3,4,5]\n",
    "print(a)\n",
    "for i in range(len(a)):\n",
    "    print(a[i])\n",
    "\n",
    "# ListA Listb \n",
    "l1=[1,2,3,4,5]\n",
    "l2 = [1,2,3,4,5]\n",
    "print(l1 is l2 )\n",
    "\n",
    "list1 = lis4 = [1,2,3,4,5]\n",
    "print(list1 is lis4)"
   ]
  },
  {
   "cell_type": "code",
   "execution_count": 5,
   "metadata": {},
   "outputs": [
    {
     "name": "stdout",
     "output_type": "stream",
     "text": [
      "<class 'str'>\n",
      "Hello World\n",
      "11\n",
      "Hello Python\n",
      "dlroW olleH\n",
      "drWolH\n"
     ]
    }
   ],
   "source": [
    "# Strings in Python \n",
    "strings = \"Hello World\"\n",
    "print(type(strings))\n",
    "print(strings)\n",
    "\n",
    "# length of the string \n",
    "print(len(strings))\n",
    "\n",
    "# Replacing a string \n",
    "Modified_string = strings.replace(\"World\",\"Python\")\n",
    "print(Modified_string)\n",
    "\n",
    "# Splitting a string with 2 jumps or fancy indexing \n",
    "Modified_string[0:5:2]\n",
    "\n",
    "# reversing a string\n",
    "print(strings[::-1])\n",
    "\n",
    "# reversing a string with 2 jumps\n",
    "print(strings[::-2])\n",
    "\n"
   ]
  },
  {
   "cell_type": "code",
   "execution_count": 6,
   "metadata": {},
   "outputs": [
    {
     "name": "stdout",
     "output_type": "stream",
     "text": [
      "Hlo\n"
     ]
    }
   ],
   "source": [
    "print(strings[0:5:2])\n"
   ]
  },
  {
   "cell_type": "code",
   "execution_count": 7,
   "metadata": {},
   "outputs": [],
   "source": [
    "\n",
    "from bs4 import BeautifulSoup\n",
    "import requests\n",
    "\n",
    "\n",
    "\n"
   ]
  },
  {
   "cell_type": "code",
   "execution_count": 8,
   "metadata": {},
   "outputs": [],
   "source": [
    "url= 'https://www.nu.edu.pk/'"
   ]
  },
  {
   "cell_type": "code",
   "execution_count": 9,
   "metadata": {},
   "outputs": [
    {
     "data": {
      "text/plain": [
       "<Response [200]>"
      ]
     },
     "execution_count": 9,
     "metadata": {},
     "output_type": "execute_result"
    }
   ],
   "source": [
    "data=requests.get(url)"
   ]
  },
  {
   "cell_type": "code",
   "execution_count": 10,
   "metadata": {},
   "outputs": [
    {
     "ename": "NameError",
     "evalue": "name 'input_data' is not defined",
     "output_type": "error",
     "traceback": [
      "\u001b[0;31m---------------------------------------------------------------------------\u001b[0m",
      "\u001b[0;31mNameError\u001b[0m                                 Traceback (most recent call last)",
      "Cell \u001b[0;32mIn[10], line 1\u001b[0m\n\u001b[0;32m----> 1\u001b[0m BeautifulSoup(\u001b[43minput_data\u001b[49m\u001b[38;5;241m.\u001b[39mtext,\u001b[38;5;124m'\u001b[39m\u001b[38;5;124mhtml\u001b[39m\u001b[38;5;124m'\u001b[39m)\n",
      "\u001b[0;31mNameError\u001b[0m: name 'input_data' is not defined"
     ]
    }
   ],
   "source": [
    "BeautifulSoup(data.text,'html')\n"
   ]
  },
  {
   "cell_type": "code",
   "execution_count": null,
   "metadata": {},
   "outputs": [],
   "source": []
  }
 ],
 "metadata": {
  "kernelspec": {
   "display_name": "Python 3",
   "language": "python",
   "name": "python3"
  },
  "language_info": {
   "codemirror_mode": {
    "name": "ipython",
    "version": 3
   },
   "file_extension": ".py",
   "mimetype": "text/x-python",
   "name": "python",
   "nbconvert_exporter": "python",
   "pygments_lexer": "ipython3",
   "version": "3.10.12"
  }
 },
 "nbformat": 4,
 "nbformat_minor": 2
}
