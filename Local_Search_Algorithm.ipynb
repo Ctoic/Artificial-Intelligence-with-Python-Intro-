{
  "nbformat": 4,
  "nbformat_minor": 0,
  "metadata": {
    "colab": {
      "provenance": []
    },
    "kernelspec": {
      "name": "python3",
      "display_name": "Python 3"
    },
    "language_info": {
      "name": "python"
    }
  },
  "cells": [
    {
      "cell_type": "markdown",
      "source": [
        "<h1 style=\"font-family:verdana;\"> <center> </center> </h1>\n",
        "<h1 style=\"font-family:verdana;\"> <center>Local Searches</center> </h1>\n",
        "<h1 style=\"font-family:verdana;\"> <center>Hill Climbing</center> </h1>\n",
        "<p><center style=\"color:#159364; font-family:cursive; font-size:20px;\">Instructor:Ms. Zill-E-Huma</center></p>\n",
        "\n",
        "***"
      ],
      "metadata": {
        "id": "6H2JzLebmV-M"
      }
    },
    {
      "cell_type": "markdown",
      "source": [
        "# 👋Let's begin!\n",
        "<div class=\"alert alert-block alert-info\" style=\"font-size:20px; font-family:verdana;\">\n",
        "    \n",
        "</div>\n",
        "\n",
        "# 🔬Overview\n",
        "<div style=\"background-color:#fff1cc; padding: 20px;\">\n",
        "<p style=\"font-size:20px; font-family:verdana; line-height: 1.7em\">A local search algorithm in artificial intelligence is an optimization technique that seeks the optimal solution to a problem through iterative adjustments to an initial response. Its goal is to find the best possible solution within a specified search space. In contrast to global search methods, local search algorithms explore the entire solution space and concentrate on making incremental changes to enhance the current solution until they converge to a locally optimal solution. </p>"
      ],
      "metadata": {
        "id": "BKagdhZHmfHe"
      }
    },
    {
      "cell_type": "markdown",
      "source": [
        "# 🧮 Structure\n",
        "\n",
        "<div style=\"background-color:#fff1cc; padding: 20px;\">\n",
        "<p style=\"font-size:30px; font-family:verdana; line-height: 1.7em\">\n",
        "\n",
        "1. Initialization: Start with an initial solution, which can be generated randomly or through some heuristic method.\n",
        "2. Evaluation: Evaluate the quality of the initial solution using an objective function or a fitness measure. This function quantifies how close the solution is to the desired outcome.\n",
        "3. Neighbor Generation: Generate a set of neighboring solutions by making minor changes to the current solution. These changes are typically referred to as \"moves.\"\n",
        "4. Selection: Choose one of the neighboring solutions based on a criterion, such as the improvement in the objective function value. This step determines the direction in which the search proceeds.\n",
        "5. Termination: Continue the process iteratively, moving to the selected neighboring solution, and repeating steps 2 to 4 until a termination condition is met. This condition could be a maximum number of iterations, reaching a predefined threshold, or finding a satisfactory solution. </p>"
      ],
      "metadata": {
        "id": "tQ-yg6y9n9L5"
      }
    },
    {
      "cell_type": "markdown",
      "source": [
        "#Problem Statement\n",
        "#**N-Queen Problem**\n",
        "In the classic N-Queens problem, the challenge is to place N queens on an N×N chessboard in such a way that no two queens threaten each other. The objective is to find a configuration where no queen can capture another, either horizontally, vertically, or diagonally.\n",
        "\n",
        "###Challenge:\n",
        "Design a local search algorithm to optimize the placement of N queens on the chessboard, aiming to find a configuration that minimizes the number of queen conflicts and satisfies the constraints of the N-Queens problem.\n",
        "\n",
        "###Objective:\n",
        "Develop a local search algorithm that iteratively refines the placement of queens on the chessboard, taking into account the conflicts between queens. The goal is to minimize the number of conflicts and achieve a solution where no queen threatens another.\n",
        "\n",
        "###Requirements:\n",
        "\n",
        "The local search algorithm should start with an initial placement of queens and iteratively explore neighboring configurations by moving queens to reduce conflicts.\n",
        "The optimization process should consider conflicts along rows, columns, and diagonals and adjust the queen positions accordingly.\n",
        "The algorithm should be designed to work for various board sizes (N×N) and handle scenarios where a solution might not be feasible.\n",
        "\n",
        "#Solution\n"
      ],
      "metadata": {
        "id": "pJNHllhEoB80"
      }
    },
    {
      "cell_type": "code",
      "execution_count": 1,
      "metadata": {
        "colab": {
          "base_uri": "https://localhost:8080/",
          "height": 0
        },
        "id": "zUNDiSolmSTY",
        "outputId": "3939c2a9-9653-45d5-e023-8b348f904cf9"
      },
      "outputs": [
        {
          "output_type": "stream",
          "name": "stdout",
          "text": [
            "Initial Board:\n",
            "| Q |   |   |   |   |   |\n",
            "| Q |   |   |   |   |   |\n",
            "| Q |   |   |   |   |   |\n",
            "|   |   |   |   | Q |   |\n",
            "| Q |   |   |   |   |   |\n",
            "|   |   |   |   |   | Q |\n",
            "Current Conflicts:  7\n",
            "\n",
            "Optimized Board:\n",
            "|   |   |   | Q |   |   |\n",
            "| Q |   |   |   |   |   |\n",
            "| Q |   |   |   |   |   |\n",
            "|   |   |   |   | Q |   |\n",
            "|   | Q |   |   |   |   |\n",
            "|   |   |   |   |   | Q |\n"
          ]
        }
      ],
      "source": [
        "import random\n",
        "\n",
        "def generate_board(size):\n",
        "    return [random.randint(0, size - 1) for _ in range(size)]\n",
        "\n",
        "def count_conflicts(board):\n",
        "    conflicts = 0\n",
        "    size = len(board)\n",
        "\n",
        "    for i in range(size):\n",
        "        for j in range(i + 1, size):\n",
        "            if board[i] == board[j] or abs(board[i] - board[j]) == j - i or abs(i - j) == abs(board[i] - board[j]):\n",
        "                conflicts += 1\n",
        "\n",
        "    return conflicts\n",
        "\n",
        "def hill_climbing(board):\n",
        "    size = len(board)\n",
        "    current_conflicts = count_conflicts(board)\n",
        "    print(\"Current Conflicts: \", current_conflicts)\n",
        "\n",
        "    while True:\n",
        "        neighbors = []\n",
        "        best_move = None\n",
        "        best_conflicts = current_conflicts\n",
        "\n",
        "        # Generate neighbors\n",
        "        for i in range(size):\n",
        "            for j in range(size):\n",
        "                if board[i] != j:   #checking if the current position of the queen in the board list is different from the new position.\n",
        "                    temp_board = board[:]  # Copy the board\n",
        "                    temp_board[i] = j  # Move the queen\n",
        "                    neighbors.append(temp_board)\n",
        "\n",
        "        # Check objective value of neighbors\n",
        "        for neighbor in neighbors:\n",
        "            conflicts = count_conflicts(neighbor)\n",
        "            if conflicts < best_conflicts:\n",
        "                best_move = neighbor\n",
        "                best_conflicts = conflicts\n",
        "\n",
        "        # If there are no neighbors with better objective value, return current board\n",
        "        if best_move is None or best_conflicts >= current_conflicts:\n",
        "            break\n",
        "\n",
        "        # Move to the neighbor with the best objective value\n",
        "        board = best_move\n",
        "        current_conflicts = best_conflicts\n",
        "\n",
        "    return board\n",
        "\n",
        "def print_board(board):\n",
        "    for row in board:\n",
        "        line = \"| \" + \" | \".join([\"Q\" if col == row else \" \" for col in range(len(board))]) + \" |\"\n",
        "        print(line)\n",
        "\n",
        "if __name__ == \"__main__\":\n",
        "    board_size = 6  # The size of the chessboard\n",
        "    initial_board = generate_board(board_size)\n",
        "\n",
        "    print(\"Initial Board:\")\n",
        "    print_board(initial_board)\n",
        "\n",
        "    optimized_board = hill_climbing(initial_board)\n",
        "\n",
        "    print(\"\\nOptimized Board:\")\n",
        "    print_board(optimized_board)\n"
      ]
    },
    {
      "cell_type": "markdown",
      "source": [
        "***\n",
        "\n",
        "<div style=\"color:white;\n",
        "           display:fill;\n",
        "           border-radius:5px;\n",
        "           background-color:#5642C5;\n",
        "           font-size:110%;\n",
        "           font-family:Verdana;\n",
        "           letter-spacing:0.5px\">\n",
        "        <p style=\"padding: 10px;\n",
        "              color:white;\">\n",
        "            Hope you liked today's class!\n",
        "        </p>\n",
        "    </div>\n",
        "\n",
        "<center><img src='https://media4.giphy.com/media/M9gbBd9nbDrOTu1Mqx/giphy.gif?cid=790b7611704aa2ca4e403287801480a6c753abf45f3e6242&rid=giphy.gif&ct=s'\n",
        "     height=120px width=160px /></center>"
      ],
      "metadata": {
        "id": "KkbaJjEZo9Va"
      }
    }
  ]
}